{
 "cells": [
  {
   "cell_type": "code",
   "execution_count": 1,
   "id": "9927f1d2-31db-431a-86e5-47f072357bbc",
   "metadata": {},
   "outputs": [],
   "source": [
    "## Welcome to my Coding Set 7\n",
    "#Enjoy :)"
   ]
  },
  {
   "cell_type": "code",
   "execution_count": 3,
   "id": "f5fe2ecb-f51f-4795-8957-6dd24e9938ac",
   "metadata": {},
   "outputs": [],
   "source": [
    "## Issues with OneDrive\n",
    "## Hope this works"
   ]
  },
  {
   "cell_type": "code",
   "execution_count": null,
   "id": "efcd460b-ad03-462d-acd4-ff6ab2d14fd4",
   "metadata": {},
   "outputs": [],
   "source": []
  }
 ],
 "metadata": {
  "kernelspec": {
   "display_name": "Python [conda env:base] *",
   "language": "python",
   "name": "conda-base-py"
  },
  "language_info": {
   "codemirror_mode": {
    "name": "ipython",
    "version": 3
   },
   "file_extension": ".py",
   "mimetype": "text/x-python",
   "name": "python",
   "nbconvert_exporter": "python",
   "pygments_lexer": "ipython3",
   "version": "3.13.5"
  }
 },
 "nbformat": 4,
 "nbformat_minor": 5
}
