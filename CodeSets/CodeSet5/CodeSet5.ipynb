{
 "cells": [
  {
   "cell_type": "code",
   "execution_count": 1,
   "id": "83dba0e4-37b9-4aa5-b990-15369e75ba05",
   "metadata": {},
   "outputs": [],
   "source": [
    "## Hello everyone, welcome to my Coding Set 5"
   ]
  },
  {
   "cell_type": "code",
   "execution_count": 6,
   "id": "a9806843-fb67-4a9d-ac26-0aa46c33b45e",
   "metadata": {},
   "outputs": [],
   "source": [
    "def main():\n",
    "    value=99\n",
    "    print(f' The value is {value}.')\n",
    "    change_me(value)\n",
    "    print (f' Back in main the value is {value}.')\n",
    "\n",
    "def change_me(arg):\n",
    "    print (\"I am changing the value\")\n",
    "    arg=0\n",
    "    print (f' Now the value is {arg}.')"
   ]
  },
  {
   "cell_type": "code",
   "execution_count": 58,
   "id": "0befc1e2-bc9f-4634-a078-c42d043b8068",
   "metadata": {},
   "outputs": [],
   "source": [
    "def main():\n",
    "    n_1=random.randint(1,20)\n",
    "    print (f'{n_1}')\n",
    "    "
   ]
  },
  {
   "cell_type": "code",
   "execution_count": 60,
   "id": "36dda67c-f98b-4a10-a715-3088febc5b4f",
   "metadata": {},
   "outputs": [],
   "source": [
    "##Algorithm Workbench #\n",
    "\n"
   ]
  },
  {
   "cell_type": "code",
   "execution_count": 61,
   "id": "3b632fd7-35fe-4cd4-aefa-bc4141011c21",
   "metadata": {},
   "outputs": [],
   "source": [
    "##Algorithm Workbench #\n",
    "\n"
   ]
  },
  {
   "cell_type": "code",
   "execution_count": 62,
   "id": "3647283f-f612-456e-b61e-424fadc330e9",
   "metadata": {},
   "outputs": [],
   "source": [
    "## Programming Excercises #1\n",
    "\n",
    "\n"
   ]
  },
  {
   "cell_type": "code",
   "execution_count": 63,
   "id": "4a204b00-5260-4f04-80ba-de705847d4d9",
   "metadata": {},
   "outputs": [],
   "source": [
    "## Programming Exercises #\n",
    "\n",
    "\n"
   ]
  },
  {
   "cell_type": "code",
   "execution_count": 64,
   "id": "5ce3dcdf-bc63-42d8-898f-891ef10088b7",
   "metadata": {},
   "outputs": [],
   "source": [
    "## Programming Exercises #\n",
    "\n"
   ]
  },
  {
   "cell_type": "code",
   "execution_count": null,
   "id": "d6e690b0-f926-42e2-9dd5-e4eb1a5548f2",
   "metadata": {},
   "outputs": [],
   "source": [
    "## Programming Exercises #"
   ]
  }
 ],
 "metadata": {
  "kernelspec": {
   "display_name": "Python [conda env:base] *",
   "language": "python",
   "name": "conda-base-py"
  },
  "language_info": {
   "codemirror_mode": {
    "name": "ipython",
    "version": 3
   },
   "file_extension": ".py",
   "mimetype": "text/x-python",
   "name": "python",
   "nbconvert_exporter": "python",
   "pygments_lexer": "ipython3",
   "version": "3.13.5"
  }
 },
 "nbformat": 4,
 "nbformat_minor": 5
}
