{
 "cells": [
  {
   "cell_type": "code",
   "execution_count": 1,
   "id": "83dba0e4-37b9-4aa5-b990-15369e75ba05",
   "metadata": {},
   "outputs": [],
   "source": [
    "## Hello everyone, welcome to my Coding Set 5"
   ]
  },
  {
   "cell_type": "code",
   "execution_count": 2,
   "id": "36dda67c-f98b-4a10-a715-3088febc5b4f",
   "metadata": {},
   "outputs": [],
   "source": [
    "##Algorithm Workbench #\n",
    "\n"
   ]
  },
  {
   "cell_type": "code",
   "execution_count": 3,
   "id": "3b632fd7-35fe-4cd4-aefa-bc4141011c21",
   "metadata": {},
   "outputs": [],
   "source": [
    "##Algorithm Workbench #\n",
    "\n"
   ]
  },
  {
   "cell_type": "code",
   "execution_count": 4,
   "id": "3647283f-f612-456e-b61e-424fadc330e9",
   "metadata": {},
   "outputs": [],
   "source": [
    "## Programming Excercises #1\n",
    "\n",
    "\n"
   ]
  },
  {
   "cell_type": "code",
   "execution_count": 5,
   "id": "4a204b00-5260-4f04-80ba-de705847d4d9",
   "metadata": {},
   "outputs": [],
   "source": [
    "## Programming Exercises #16\n",
    "# A prime number is a number that is only evenly divisible by itself and 1. For example, the number 5 is a prime because it can only be evenly divided\n",
    "# by 1 and 5. The number 6, however, is not prime because it can be divided evenly by 1,2,3, and 6.\n",
    "\n",
    "## Write a Boolean function named is_prime which takes an integer as an argument and returns true if \n",
    "## the argument is a prime number, or false otherwise. \n",
    "\n",
    "## Use the function in a program that prompts the user to enter a number, then displays a message indicating whether the number is prime.\n",
    "\n",
    "\n"
   ]
  },
  {
   "cell_type": "code",
   "execution_count": 23,
   "id": "dc2d8cc0-72c9-4872-8fbd-8b8edd436538",
   "metadata": {},
   "outputs": [
    {
     "ename": "SyntaxError",
     "evalue": "invalid syntax (2058512666.py, line 1)",
     "output_type": "error",
     "traceback": [
      "\u001b[1;36m  Cell \u001b[1;32mIn[23], line 1\u001b[1;36m\u001b[0m\n\u001b[1;33m    global is_prime(num):\u001b[0m\n\u001b[1;37m                   ^\u001b[0m\n\u001b[1;31mSyntaxError\u001b[0m\u001b[1;31m:\u001b[0m invalid syntax\n"
     ]
    }
   ],
   "source": [
    "def is_prime(num):\n",
    "    for i in range(2,num):\n",
    "        evenly_divisable = (num % i == 0)\n",
    "        if evenly_divisable:\n",
    "            return False \n",
    "        return True\n",
    "def main():\n",
    "    while True:\n",
    "        num_1 = int(input(\"Please enter a number to see if it's a prime number\"))\n",
    "        prime_r = is_prime(num_1)\n",
    "        if prime_r:\n",
    "            print(f'{num_1}'\" is a prime number\")\n",
    "        else: \n",
    "            print(f'{num_1}'\" is not a prime number\")\n",
    "\n",
    "            \n",
    "main()\n",
    "        "
   ]
  },
  {
   "cell_type": "code",
   "execution_count": null,
   "id": "eec7876f-d339-4776-88ff-55482c29c840",
   "metadata": {},
   "outputs": [],
   "source": [
    "## This one was pretty straight foward, I can see how this could be an issue running always and needing a way to Break\n"
   ]
  },
  {
   "cell_type": "code",
   "execution_count": null,
   "id": "5ce3dcdf-bc63-42d8-898f-891ef10088b7",
   "metadata": {},
   "outputs": [],
   "source": [
    "## Programming Exercises #17\n",
    "\n",
    "# This exercise assumes that you have already written the is_prime function in Programming Exercise 16. Write another program that displays all of the\n",
    "# prime numbers from 1 to 100. The program should have a loop that calls the is_prime function.\n",
    "\n"
   ]
  },
  {
   "cell_type": "code",
   "execution_count": 25,
   "id": "dc1583c8-f04a-4ab7-b67d-cfb8b8921a6b",
   "metadata": {},
   "outputs": [
    {
     "name": "stdout",
     "output_type": "stream",
     "text": [
      "Prime numbers from 1 to 100:\n",
      "2 3 5 7 11 13 17 19 23 29 31 37 41 43 47 53 59 61 67 71 73 79 83 89 97 "
     ]
    }
   ],
   "source": [
    "def is_prime(num):\n",
    "    if num <2:\n",
    "        return False\n",
    "    for i in range(2,num):\n",
    "        if num % i == 0:\n",
    "            return False\n",
    "    return True\n",
    "\n",
    "def main():\n",
    "    print(\"Prime numbers from 1 to 100:\")\n",
    "    for n in range (1,101):\n",
    "        if is_prime(n):\n",
    "            print(n, end=\" \")\n",
    "main()"
   ]
  },
  {
   "cell_type": "code",
   "execution_count": null,
   "id": "20f3f4c8-022d-4703-8c6c-f6e00a3f52d6",
   "metadata": {},
   "outputs": [],
   "source": [
    "## When I first started this, I tried to use global because I thought the cell above was localized and couldn't transfer to this one.\n",
    "# After trying to use global in the previous cell, I gave up and just started typing and to my surprise it was calling on the is_prime.\n",
    "# I like that everything has tied together using While loops and For loops with if statements. I found this very informative and gave me some ideas \n",
    "# for when I go to code in my free time. I've been thinking of using randint for a number generator for 1-20 because I play alot of D&D. "
   ]
  },
  {
   "cell_type": "code",
   "execution_count": null,
   "id": "d6e690b0-f926-42e2-9dd5-e4eb1a5548f2",
   "metadata": {},
   "outputs": [],
   "source": [
    "## Programming Exercises #"
   ]
  },
  {
   "cell_type": "code",
   "execution_count": null,
   "id": "de2e848f-29a5-4ff2-a5cd-cc402a894930",
   "metadata": {},
   "outputs": [],
   "source": []
  }
 ],
 "metadata": {
  "kernelspec": {
   "display_name": "Python [conda env:base] *",
   "language": "python",
   "name": "conda-base-py"
  },
  "language_info": {
   "codemirror_mode": {
    "name": "ipython",
    "version": 3
   },
   "file_extension": ".py",
   "mimetype": "text/x-python",
   "name": "python",
   "nbconvert_exporter": "python",
   "pygments_lexer": "ipython3",
   "version": "3.13.5"
  }
 },
 "nbformat": 4,
 "nbformat_minor": 5
}
