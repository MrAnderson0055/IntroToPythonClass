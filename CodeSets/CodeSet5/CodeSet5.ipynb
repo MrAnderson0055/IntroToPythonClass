{
 "cells": [
  {
   "cell_type": "code",
   "execution_count": 1,
   "id": "83dba0e4-37b9-4aa5-b990-15369e75ba05",
   "metadata": {},
   "outputs": [],
   "source": [
    "## Hello everyone, welcome to my Coding Set 5"
   ]
  },
  {
   "cell_type": "code",
   "execution_count": 2,
   "id": "36dda67c-f98b-4a10-a715-3088febc5b4f",
   "metadata": {},
   "outputs": [],
   "source": [
    "##Algorithm Workbench #6\n",
    "# Write a statement that generates a random number in the range of 1-100 and assigns it to a variable named rand.\n",
    "\n"
   ]
  },
  {
   "cell_type": "code",
   "execution_count": 4,
   "id": "89eb30f7-9e72-4856-9194-23ef6e373b09",
   "metadata": {},
   "outputs": [
    {
     "name": "stdout",
     "output_type": "stream",
     "text": [
      "32\n"
     ]
    }
   ],
   "source": [
    "import random\n",
    "\n",
    "rand=random.randint(1,100)\n",
    "\n",
    "print(rand)"
   ]
  },
  {
   "cell_type": "code",
   "execution_count": null,
   "id": "cee9dd88-e29e-4c7c-b503-ca915687df0f",
   "metadata": {},
   "outputs": [],
   "source": [
    "## This problem was pretty straight foward, I really like the random number generator. "
   ]
  },
  {
   "cell_type": "code",
   "execution_count": 5,
   "id": "07766ffc-a45c-409a-90b1-71612d72068a",
   "metadata": {},
   "outputs": [
    {
     "name": "stdout",
     "output_type": "stream",
     "text": [
      "Oh no.. You missed\n"
     ]
    }
   ],
   "source": [
    "hit=random.randint(1,20)\n",
    "if hit>15:\n",
    "    print(\"You hit!\")\n",
    "else:\n",
    "    print(\"Oh no.. You missed\")"
   ]
  },
  {
   "cell_type": "code",
   "execution_count": null,
   "id": "447eef57-adc1-4707-95b4-7dbb14a2ca3c",
   "metadata": {},
   "outputs": [],
   "source": [
    "## Had some fun with random generator with the idea for D&D, based on a d20"
   ]
  },
  {
   "cell_type": "code",
   "execution_count": null,
   "id": "3b632fd7-35fe-4cd4-aefa-bc4141011c21",
   "metadata": {},
   "outputs": [],
   "source": [
    "##Algorithm Workbench #\n",
    "\n"
   ]
  },
  {
   "cell_type": "code",
   "execution_count": null,
   "id": "3647283f-f612-456e-b61e-424fadc330e9",
   "metadata": {},
   "outputs": [],
   "source": [
    "## Programming Excercises #1\n",
    "# Write a program that asks the user to enter a distance in kilometers, then uses a function to convert that distance in miles.\n",
    "# The conversion formula is as follows: miles=kilometers*0.6214\n",
    "\n"
   ]
  },
  {
   "cell_type": "code",
   "execution_count": 6,
   "id": "33dbb8fe-0128-458d-a393-4caa65ab738a",
   "metadata": {},
   "outputs": [
    {
     "name": "stdin",
     "output_type": "stream",
     "text": [
      "Please imput your distance in kilometers 4\n"
     ]
    },
    {
     "name": "stdout",
     "output_type": "stream",
     "text": [
      " 2.4856is how many miles you went\n"
     ]
    }
   ],
   "source": [
    "\n",
    "def kilometers(KM):\n",
    "    return KM * .6214\n",
    "k_m=float(input(\"Please imput your distance in kilometers\"))\n",
    "miles=kilometers(k_m)\n",
    "print(f' {miles}'\"is how many miles you went\") "
   ]
  },
  {
   "cell_type": "code",
   "execution_count": null,
   "id": "fc0a5f12-b8ff-4469-b1b7-2770e2b50bdb",
   "metadata": {},
   "outputs": [],
   "source": [
    "#this problem was a bit difficult because the different versions of KM that were used, I will need to work on simplfiying my code. "
   ]
  },
  {
   "cell_type": "code",
   "execution_count": null,
   "id": "4a204b00-5260-4f04-80ba-de705847d4d9",
   "metadata": {},
   "outputs": [],
   "source": [
    "## Programming Exercises #16\n",
    "# A prime number is a number that is only evenly divisible by itself and 1. For example, the number 5 is a prime because it can only be evenly divided\n",
    "# by 1 and 5. The number 6, however, is not prime because it can be divided evenly by 1,2,3, and 6.\n",
    "\n",
    "## Write a Boolean function named is_prime which takes an integer as an argument and returns true if \n",
    "## the argument is a prime number, or false otherwise. \n",
    "\n",
    "## Use the function in a program that prompts the user to enter a number, then displays a message indicating whether the number is prime.\n",
    "\n",
    "\n"
   ]
  },
  {
   "cell_type": "code",
   "execution_count": 7,
   "id": "dc2d8cc0-72c9-4872-8fbd-8b8edd436538",
   "metadata": {},
   "outputs": [
    {
     "name": "stdin",
     "output_type": "stream",
     "text": [
      "Please enter a number to see if it's a prime number 5\n"
     ]
    },
    {
     "name": "stdout",
     "output_type": "stream",
     "text": [
      "5 is a prime number\n"
     ]
    },
    {
     "name": "stdin",
     "output_type": "stream",
     "text": [
      "Please enter a number to see if it's a prime number 5\n"
     ]
    },
    {
     "name": "stdout",
     "output_type": "stream",
     "text": [
      "5 is a prime number\n"
     ]
    },
    {
     "name": "stdin",
     "output_type": "stream",
     "text": [
      "Please enter a number to see if it's a prime number please stop\n"
     ]
    },
    {
     "ename": "ValueError",
     "evalue": "invalid literal for int() with base 10: 'please stop'",
     "output_type": "error",
     "traceback": [
      "\u001b[1;31m---------------------------------------------------------------------------\u001b[0m",
      "\u001b[1;31mValueError\u001b[0m                                Traceback (most recent call last)",
      "Cell \u001b[1;32mIn[7], line 17\u001b[0m\n\u001b[0;32m     13\u001b[0m         \u001b[38;5;28;01melse\u001b[39;00m: \n\u001b[0;32m     14\u001b[0m             \u001b[38;5;28mprint\u001b[39m(\u001b[38;5;124mf\u001b[39m\u001b[38;5;124m'\u001b[39m\u001b[38;5;132;01m{\u001b[39;00mnum_1\u001b[38;5;132;01m}\u001b[39;00m\u001b[38;5;124m'\u001b[39m\u001b[38;5;124m\"\u001b[39m\u001b[38;5;124m is not a prime number\u001b[39m\u001b[38;5;124m\"\u001b[39m)\n\u001b[1;32m---> 17\u001b[0m main()\n",
      "Cell \u001b[1;32mIn[7], line 9\u001b[0m, in \u001b[0;36mmain\u001b[1;34m()\u001b[0m\n\u001b[0;32m      7\u001b[0m \u001b[38;5;28;01mdef\u001b[39;00m\u001b[38;5;250m \u001b[39m\u001b[38;5;21mmain\u001b[39m():\n\u001b[0;32m      8\u001b[0m     \u001b[38;5;28;01mwhile\u001b[39;00m \u001b[38;5;28;01mTrue\u001b[39;00m:\n\u001b[1;32m----> 9\u001b[0m         num_1 \u001b[38;5;241m=\u001b[39m \u001b[38;5;28mint\u001b[39m(\u001b[38;5;28minput\u001b[39m(\u001b[38;5;124m\"\u001b[39m\u001b[38;5;124mPlease enter a number to see if it\u001b[39m\u001b[38;5;124m'\u001b[39m\u001b[38;5;124ms a prime number\u001b[39m\u001b[38;5;124m\"\u001b[39m))\n\u001b[0;32m     10\u001b[0m         prime_r \u001b[38;5;241m=\u001b[39m is_prime(num_1)\n\u001b[0;32m     11\u001b[0m         \u001b[38;5;28;01mif\u001b[39;00m prime_r:\n",
      "\u001b[1;31mValueError\u001b[0m: invalid literal for int() with base 10: 'please stop'"
     ]
    }
   ],
   "source": [
    "def is_prime(num):\n",
    "    for i in range(2,num):\n",
    "        evenly_divisable = (num % i == 0)\n",
    "        if evenly_divisable:\n",
    "            return False \n",
    "        return True\n",
    "def main():\n",
    "    while True:\n",
    "        num_1 = int(input(\"Please enter a number to see if it's a prime number\"))\n",
    "        prime_r = is_prime(num_1)\n",
    "        if prime_r:\n",
    "            print(f'{num_1}'\" is a prime number\")\n",
    "        else: \n",
    "            print(f'{num_1}'\" is not a prime number\")\n",
    "\n",
    "            \n",
    "main()\n",
    "        "
   ]
  },
  {
   "cell_type": "code",
   "execution_count": null,
   "id": "eec7876f-d339-4776-88ff-55482c29c840",
   "metadata": {},
   "outputs": [],
   "source": [
    "## This one was pretty straight foward, I can see how this could be an issue running always and needing a way to Break\n"
   ]
  },
  {
   "cell_type": "code",
   "execution_count": null,
   "id": "5ce3dcdf-bc63-42d8-898f-891ef10088b7",
   "metadata": {},
   "outputs": [],
   "source": [
    "## Programming Exercises #17\n",
    "\n",
    "# This exercise assumes that you have already written the is_prime function in Programming Exercise 16. Write another program that displays all of the\n",
    "# prime numbers from 1 to 100. The program should have a loop that calls the is_prime function.\n",
    "\n"
   ]
  },
  {
   "cell_type": "code",
   "execution_count": 8,
   "id": "dc1583c8-f04a-4ab7-b67d-cfb8b8921a6b",
   "metadata": {},
   "outputs": [
    {
     "name": "stdout",
     "output_type": "stream",
     "text": [
      "Prime numbers from 1 to 100:\n",
      "2 3 5 7 11 13 17 19 23 29 31 37 41 43 47 53 59 61 67 71 73 79 83 89 97 "
     ]
    }
   ],
   "source": [
    "def is_prime(num):\n",
    "    if num <2:\n",
    "        return False\n",
    "    for i in range(2,num):\n",
    "        if num % i == 0:\n",
    "            return False\n",
    "    return True\n",
    "\n",
    "def main():\n",
    "    print(\"Prime numbers from 1 to 100:\")\n",
    "    for n in range (1,101):\n",
    "        if is_prime(n):\n",
    "            print(n, end=\" \")\n",
    "main()"
   ]
  },
  {
   "cell_type": "code",
   "execution_count": null,
   "id": "20f3f4c8-022d-4703-8c6c-f6e00a3f52d6",
   "metadata": {},
   "outputs": [],
   "source": [
    "## When I first started this, I tried to use global because I thought the cell above was localized and couldn't transfer to this one.\n",
    "# After trying to use global in the previous cell, I gave up and just started typing and to my surprise it was calling on the is_prime.\n",
    "# I like that everything has tied together using While loops and For loops with if statements. I found this very informative and gave me some ideas \n",
    "# for when I go to code in my free time. I've been thinking of using randint for a number generator for 1-20 because I play alot of D&D. "
   ]
  },
  {
   "cell_type": "code",
   "execution_count": null,
   "id": "d6e690b0-f926-42e2-9dd5-e4eb1a5548f2",
   "metadata": {},
   "outputs": [],
   "source": [
    "## Programming Exercises #6\n",
    "# There are three seating categories at a stadium. Class A seats cost $20, Class B seats cost $15, and Class C seats cost $10.\n",
    "# Write a program that asks how many tickets for each of seats were sold then displays the amount of income\n",
    "# generated from ticket sales."
   ]
  },
  {
   "cell_type": "code",
   "execution_count": 17,
   "id": "de2e848f-29a5-4ff2-a5cd-cc402a894930",
   "metadata": {},
   "outputs": [
    {
     "name": "stdin",
     "output_type": "stream",
     "text": [
      "How many seats did you sell in Class A? 4\n",
      "How many seats did you sell in Class B? 5\n",
      "How many seats did you sell in Class C? 10\n"
     ]
    },
    {
     "name": "stdout",
     "output_type": "stream",
     "text": [
      "$255 is how much you have made\n"
     ]
    }
   ],
   "source": [
    "def classes(S_A,S_B,S_C):\n",
    "    return (S_A*20)+(S_B*15)+(S_C*10)\n",
    "\n",
    "def main():\n",
    "    S_A=int(input(\"How many seats did you sell in Class A?\"))\n",
    "    S_B=int(input(\"How many seats did you sell in Class B?\"))\n",
    "    S_C=int(input(\"How many seats did you sell in Class C?\"))\n",
    "    income=classes(S_A,S_B,S_C)\n",
    "    print(f\"${income}\"\" is how much you have made\")\n",
    "main()"
   ]
  },
  {
   "cell_type": "code",
   "execution_count": null,
   "id": "fc1991d6-7352-4db8-8957-f05b365c520a",
   "metadata": {},
   "outputs": [],
   "source": []
  }
 ],
 "metadata": {
  "kernelspec": {
   "display_name": "Python [conda env:base] *",
   "language": "python",
   "name": "conda-base-py"
  },
  "language_info": {
   "codemirror_mode": {
    "name": "ipython",
    "version": 3
   },
   "file_extension": ".py",
   "mimetype": "text/x-python",
   "name": "python",
   "nbconvert_exporter": "python",
   "pygments_lexer": "ipython3",
   "version": "3.13.5"
  }
 },
 "nbformat": 4,
 "nbformat_minor": 5
}
