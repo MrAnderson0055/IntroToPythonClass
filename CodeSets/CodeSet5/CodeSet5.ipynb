{
 "cells": [
  {
   "cell_type": "code",
   "execution_count": 1,
   "id": "83dba0e4-37b9-4aa5-b990-15369e75ba05",
   "metadata": {},
   "outputs": [],
   "source": [
    "## Hello everyone, welcome to my Coding Set 5"
   ]
  },
  {
   "cell_type": "code",
   "execution_count": 4,
   "id": "36dda67c-f98b-4a10-a715-3088febc5b4f",
   "metadata": {},
   "outputs": [],
   "source": [
    "##Algorithm Workbench #\n",
    "\n"
   ]
  },
  {
   "cell_type": "code",
   "execution_count": 5,
   "id": "3b632fd7-35fe-4cd4-aefa-bc4141011c21",
   "metadata": {},
   "outputs": [],
   "source": [
    "##Algorithm Workbench #\n",
    "\n"
   ]
  },
  {
   "cell_type": "code",
   "execution_count": 6,
   "id": "3647283f-f612-456e-b61e-424fadc330e9",
   "metadata": {},
   "outputs": [],
   "source": [
    "## Programming Excercises #1\n",
    "\n",
    "\n"
   ]
  },
  {
   "cell_type": "code",
   "execution_count": 10,
   "id": "4a204b00-5260-4f04-80ba-de705847d4d9",
   "metadata": {},
   "outputs": [],
   "source": [
    "## Programming Exercises #16\n",
    "# A prime number is a number that is only evenly divisible by itself and 1. For example, the number 5 is a prime because it can only be evenly divided\n",
    "# by 1 and 5. The number 6, however, is not prime because it can be divided evenly by 1,2,3, and 6.\n",
    "\n",
    "## Write a Boolean function named is_prime which takes an integer as an argument and returns true if \n",
    "## the argument is a prime number, or false otherwise. \n",
    "\n",
    "## Use the function in a program that prompts the user to enter a number then displays a message indicating whether the number is prime.\n",
    "\n",
    "\n"
   ]
  },
  {
   "cell_type": "code",
   "execution_count": null,
   "id": "dc2d8cc0-72c9-4872-8fbd-8b8edd436538",
   "metadata": {},
   "outputs": [],
   "source": []
  },
  {
   "cell_type": "code",
   "execution_count": 8,
   "id": "5ce3dcdf-bc63-42d8-898f-891ef10088b7",
   "metadata": {},
   "outputs": [],
   "source": [
    "## Programming Exercises #17\n",
    "\n",
    "# This exercise assumes that you have already written the is_prime function in Programming Exercise 16. Write another program that displays all of the\n",
    "# prime numbers from 1 to 100. The program should have a loop that calls the is_prime function.\n",
    "\n"
   ]
  },
  {
   "cell_type": "code",
   "execution_count": null,
   "id": "dc1583c8-f04a-4ab7-b67d-cfb8b8921a6b",
   "metadata": {},
   "outputs": [],
   "source": []
  },
  {
   "cell_type": "code",
   "execution_count": 9,
   "id": "d6e690b0-f926-42e2-9dd5-e4eb1a5548f2",
   "metadata": {},
   "outputs": [],
   "source": [
    "## Programming Exercises #"
   ]
  }
 ],
 "metadata": {
  "kernelspec": {
   "display_name": "Python [conda env:base] *",
   "language": "python",
   "name": "conda-base-py"
  },
  "language_info": {
   "codemirror_mode": {
    "name": "ipython",
    "version": 3
   },
   "file_extension": ".py",
   "mimetype": "text/x-python",
   "name": "python",
   "nbconvert_exporter": "python",
   "pygments_lexer": "ipython3",
   "version": "3.13.5"
  }
 },
 "nbformat": 4,
 "nbformat_minor": 5
}
