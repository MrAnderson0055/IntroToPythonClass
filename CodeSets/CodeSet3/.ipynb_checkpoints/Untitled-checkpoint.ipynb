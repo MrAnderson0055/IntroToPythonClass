{
 "cells": [
  {
   "cell_type": "code",
   "execution_count": 1,
   "id": "678360d2-fc7a-42be-a457-4059cd8cba03",
   "metadata": {},
   "outputs": [],
   "source": [
    "#Welcome to my CodingSet3 :)"
   ]
  },
  {
   "cell_type": "code",
   "execution_count": null,
   "id": "2db491f2-24ca-4e0f-b9c9-ef07470f1c84",
   "metadata": {},
   "outputs": [],
   "source": []
  }
 ],
 "metadata": {
  "kernelspec": {
   "display_name": "Python [conda env:base] *",
   "language": "python",
   "name": "conda-base-py"
  },
  "language_info": {
   "codemirror_mode": {
    "name": "ipython",
    "version": 3
   },
   "file_extension": ".py",
   "mimetype": "text/x-python",
   "name": "python",
   "nbconvert_exporter": "python",
   "pygments_lexer": "ipython3",
   "version": "3.13.5"
  }
 },
 "nbformat": 4,
 "nbformat_minor": 5
}
