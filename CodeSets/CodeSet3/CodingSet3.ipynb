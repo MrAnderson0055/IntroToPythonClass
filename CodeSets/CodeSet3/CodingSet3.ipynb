{
 "cells": [
  {
   "cell_type": "code",
   "execution_count": 1,
   "id": "678360d2-fc7a-42be-a457-4059cd8cba03",
   "metadata": {},
   "outputs": [],
   "source": [
    "#Welcome to my CodingSet3, my name is Bailey :)"
   ]
  },
  {
   "cell_type": "code",
   "execution_count": 2,
   "id": "2db491f2-24ca-4e0f-b9c9-ef07470f1c84",
   "metadata": {
    "scrolled": true
   },
   "outputs": [
    {
     "name": "stdin",
     "output_type": "stream",
     "text": [
      "What is your name? Bailey\n"
     ]
    }
   ],
   "source": [
    "name = input (\"What is your name?\") "
   ]
  },
  {
   "cell_type": "code",
   "execution_count": 3,
   "id": "2c3c98cc-9ba1-4919-9b5a-e58773c04c46",
   "metadata": {},
   "outputs": [],
   "source": [
    "#Had some fun messing around with the if/else for a name input"
   ]
  },
  {
   "cell_type": "code",
   "execution_count": 4,
   "id": "8ddfe6da-ac2c-402b-9023-9939e1ad20e5",
   "metadata": {},
   "outputs": [
    {
     "name": "stdout",
     "output_type": "stream",
     "text": [
      "Welcome back\n"
     ]
    }
   ],
   "source": [
    "if (name==\"Bailey\"):\n",
    "    print (\"Welcome back\")\n",
    "else:\n",
    "    print (\"Welcome to my Coding Set 3 \" , name)"
   ]
  },
  {
   "cell_type": "code",
   "execution_count": 5,
   "id": "2e0474fd-9551-4b6f-8f33-53a5f22ceebe",
   "metadata": {},
   "outputs": [],
   "source": [
    "## Problem 1\n",
    "\n",
    "#From the Algorithm Workbench, Question 2"
   ]
  },
  {
   "cell_type": "code",
   "execution_count": 6,
   "id": "9ea6d99e-e9a5-458d-930f-5088048653fa",
   "metadata": {},
   "outputs": [
    {
     "name": "stdin",
     "output_type": "stream",
     "text": [
      "What is 'a' as a whole number? 5\n"
     ]
    },
    {
     "name": "stdout",
     "output_type": "stream",
     "text": [
      "0 and 1\n"
     ]
    }
   ],
   "source": [
    "b=0\n",
    "c=1\n",
    "a=int(input(\"What is 'a' as a whole number?\"))\n",
    "if a >= 10:\n",
    "    print (\"everything looks good here\")\n",
    "else: \n",
    "    print (b, \"and\", c)\n",
    "    "
   ]
  },
  {
   "cell_type": "code",
   "execution_count": 7,
   "id": "9be60554-cdee-4ef8-b1e8-de758e92e03e",
   "metadata": {},
   "outputs": [],
   "source": [
    "# I did this problem as a little bit of practice for myself, though it wasn't required\n",
    "## The problem above took me a little longer than I had expected.\n",
    "# First I was running into issues with \"str\" and \"int\" not going together when I had my else statement, because it couldn't define the variables.\n",
    "#I then tried to do too much in my single if statement by putting my variables to change value right after input. This made Python freak out because \n",
    "# I wanted to use the walrus operator in my else statement. I took some time to see if I could fit in an Elif, but it made it too complicated. \n",
    "#I realized that I was overthinking it and went back to my notes on how to assign variables\n",
    "# So I changed my else to assign the variables with a print statement following."
   ]
  },
  {
   "cell_type": "code",
   "execution_count": 8,
   "id": "232f7b28-6552-497e-b657-74a13bb16b3c",
   "metadata": {},
   "outputs": [],
   "source": [
    "## Problem 2\n",
    "\n",
    "#Question 4\n",
    "#The following code contains several nested if-else statements. Unfortunately, it was written without proper alignment and indentation.\n",
    "#Rewrite the code and use the proper conventions of alignment and indentation"
   ]
  },
  {
   "cell_type": "code",
   "execution_count": 11,
   "id": "9f880f17-18a7-42d1-a5fb-55b06be7eb55",
   "metadata": {},
   "outputs": [
    {
     "name": "stdout",
     "output_type": "stream",
     "text": [
      "Your grade is B.\n"
     ]
    }
   ],
   "source": [
    "if score >= A_score:\n",
    "    print (\"Your grade is A.\")\n",
    "else:\n",
    "    if score >= B_score:\n",
    "        print (\"Your grade is B.\")\n",
    "    else:\n",
    "        if score >= C_score:\n",
    "            print (\"Your grade is C.\")\n",
    "        else:\n",
    "            if score >= D_score:\n",
    "                print (\"Your grade is D.\")\n",
    "            else:\n",
    "                print (\"Your grade is F.\")\n",
    "    "
   ]
  },
  {
   "cell_type": "code",
   "execution_count": null,
   "id": "c28db09b-bce5-4409-b9dd-1929b58d7ceb",
   "metadata": {},
   "outputs": [],
   "source": [
    "##This problem was easy, I had to hold back the urge to fix it with Elif. It is still easy to follow and read what the code is going to do. Only \n",
    "#Only issue I can see myself running into is if this becomes a long list is finding proper indentation.\n",
    "# Below is how I would have written it"
   ]
  },
  {
   "cell_type": "code",
   "execution_count": 10,
   "id": "bbf58e3e-88f4-4ea6-93ce-04f4c0601181",
   "metadata": {},
   "outputs": [
    {
     "name": "stdin",
     "output_type": "stream",
     "text": [
      "What is you score in a full number? 85\n"
     ]
    },
    {
     "name": "stdout",
     "output_type": "stream",
     "text": [
      "Your grade is B.\n"
     ]
    }
   ],
   "source": [
    "score = int(input(\"What is you score in a full number?\"))\n",
    "A_score=91\n",
    "B_score=81\n",
    "C_score=71\n",
    "D_score=60\n",
    "if score >= A_score:\n",
    "    print (\"Your grade is A.\")\n",
    "elif score >= B_score:\n",
    "    print (\"Your grade is B.\")\n",
    "elif score >= C_score:\n",
    "    print (\"Your grade is C.\")\n",
    "elif score >= D_score:\n",
    "    print (\"Your grade is D.\")\n",
    "else:\n",
    "    print (\"Your grade is F.\")\n"
   ]
  },
  {
   "cell_type": "code",
   "execution_count": null,
   "id": "0d1bc343-cad1-46aa-bfe6-a44ee55eca3b",
   "metadata": {},
   "outputs": [],
   "source": [
    "## Problem 3\n",
    "\n",
    "#Question 5\n",
    "#Write nested decision structures that perform the following:\n",
    "#If amount_1 is greater than 10 and amount_2 is less than 100, display the greater amount_1 and amount_2"
   ]
  },
  {
   "cell_type": "code",
   "execution_count": 12,
   "id": "c097566e-ce68-4733-a893-fc728482e22b",
   "metadata": {},
   "outputs": [
    {
     "name": "stdin",
     "output_type": "stream",
     "text": [
      "what is your first amount? It must be greater than 10 65\n",
      "what is your second amount? It must be smaller than 100 45\n"
     ]
    },
    {
     "name": "stdout",
     "output_type": "stream",
     "text": [
      "65 is bigger\n"
     ]
    }
   ],
   "source": [
    "\n",
    "amount_1=int(input(\"what is your first amount? It must be greater than 10\"))\n",
    "amount_2=int(input(\"what is your second amount? It must be smaller than 100\"))\n",
    "\n",
    "if amount_1 > 10:\n",
    "    if amount_2 < 100:\n",
    "        if amount_1 > amount_2:\n",
    "            print (amount_1 ,\"is bigger\")\n",
    "        else:\n",
    "            print (amount_2 ,\"is bigger \")\n",
    "    else:\n",
    "        print (amount_2, \"is not less than 100\")\n",
    "else: \n",
    "    print (amount_1, \"is not biger than 10\")\n"
   ]
  },
  {
   "cell_type": "code",
   "execution_count": null,
   "id": "f400f488-969c-4c37-8176-69a6f4bb068b",
   "metadata": {},
   "outputs": [],
   "source": [
    "## First, I am letting the user designate the amounts for the variables.\n",
    "#Next, I made a basic nested if/else with print back\n",
    "#I did a test and found I needed commas. I feel like I always forget them in my print.\n",
    "# Added some more elses but went back trough to find areas for elif which I could not find a way to use."
   ]
  },
  {
   "cell_type": "code",
   "execution_count": null,
   "id": "8b3f9c50-8a41-46c0-be08-73913524b449",
   "metadata": {},
   "outputs": [],
   "source": [
    "## Programming Question\n",
    "#Problem 5\n",
    "#Scientists measure an object’s mass in kilograms and its weight in newtons. If you know the amount of mass of an object in kilograms, \n",
    "#you can calculate its weight in newtons with the following formula:\n",
    "##Weight = mass x 9.8\n",
    "\n",
    "#Write a program that asks the user to enter an object’s mass, then calculates its weight. \n",
    "#If the object weighs more than 500 newtons, display a message indicating that it is too heavy. \n",
    "#If the object weighs less than 100 newtons, display a message indicating that it is too light.\n",
    "#The program first asks the user to enter the mass of an object in kilograms. \n",
    "#It then caculates the weight in newtons using the formula weight * mass 9.8. \n",
    "#After caculating the program checks the weight and prints the caulated weight."
   ]
  },
  {
   "cell_type": "code",
   "execution_count": 13,
   "id": "81993789-0519-42cc-b35a-a0346f2863ae",
   "metadata": {},
   "outputs": [
    {
     "name": "stdin",
     "output_type": "stream",
     "text": [
      "What is your mass? 56\n"
     ]
    },
    {
     "name": "stdout",
     "output_type": "stream",
     "text": [
      "Weight is too heavy\n"
     ]
    }
   ],
   "source": [
    "mass=float(input(\"What is your mass?\"))\n",
    "weight=mass*9.8\n",
    "if weight >=500:\n",
    "    print (\"Weight is too heavy\")\n",
    "elif weight <= 100: \n",
    "    print (\"Weight is too light\")\n",
    "else:\n",
    "    print (\"Your weight is\" , weight , \"Newtons.\")"
   ]
  },
  {
   "cell_type": "code",
   "execution_count": null,
   "id": "9131ea73-287a-4e72-ab3a-db7d06981ca6",
   "metadata": {},
   "outputs": [],
   "source": [
    "## This problem was very straight foward and I liked that it could use the elif command."
   ]
  },
  {
   "cell_type": "code",
   "execution_count": null,
   "id": "6c9990e0-b78f-4ef7-b643-b6bcbf8945ce",
   "metadata": {},
   "outputs": [],
   "source": [
    "##Question #1\n",
    "#Day of the Week Write a program that asks the user for a number in the range of 1 through 7. \n",
    "#The program should display the corresponding day of the week, \n",
    "#where 1 = Monday, 2 = Tuesday, 3 = Wednesday, 4 = Thursday, 5 = Friday, 6 = Saturday, and 7 = Sunday. \n",
    "#The program should display an error message if the user enters a number that is outside the range of 1 through 7."
   ]
  },
  {
   "cell_type": "code",
   "execution_count": 14,
   "id": "e4e4aa8b-bb9f-4acc-b8c0-eeb97ffaf4f6",
   "metadata": {},
   "outputs": [
    {
     "name": "stdin",
     "output_type": "stream",
     "text": [
      "please input a number with the corrisponding day 6\n"
     ]
    },
    {
     "name": "stdout",
     "output_type": "stream",
     "text": [
      "That day would be Saturday\n"
     ]
    }
   ],
   "source": [
    "day = int(input(\"please input a number with the corrisponding day\"))\n",
    "if day == 1:\n",
    "    print (\" That day would be Monday\")\n",
    "elif day ==2:\n",
    "    print (\"That day would be Tuesday\")\n",
    "elif day ==3: \n",
    "    print (\"That day would be Wednesday\")\n",
    "elif day ==4:\n",
    "    print (\"That day would be Thursday\")\n",
    "elif day == 5:\n",
    "    print (\"That day would be Friday\")\n",
    "elif day ==6:\n",
    "    print (\"That day would be Saturday\")\n",
    "elif day ==7:\n",
    "    print (\"That day would be Sunday\")\n",
    "else:\n",
    "    print(\"Please try again\")"
   ]
  },
  {
   "cell_type": "code",
   "execution_count": null,
   "id": "475e25d1-2ce3-4938-960c-0aa6a5b39ef0",
   "metadata": {},
   "outputs": [],
   "source": [
    "## I may have spent a little too much time time trying introduce a bool to this problem and couldn't get it to work.\n",
    "# Went with the tried and true method of this unit of if/else"
   ]
  },
  {
   "cell_type": "code",
   "execution_count": null,
   "id": "22b20af5-8829-4239-b2d7-b16fcc7f79d3",
   "metadata": {},
   "outputs": [],
   "source": [
    "## Question 15\n",
    "#February Days,The month of February normally has 28 days. \n",
    "#But if it is a leap year, February has 29 days. \n",
    "#Write a program that asks the user to enter a year. The program should then display the number of days in February that year. \n",
    "#Use the following criteria to identify leap years:           \n",
    "#Determine whether the year is divisible by 100. \n",
    "#If it is, then it is a leap year if and only if it is also divisible by 400. For example, 2000 is a leap year, but 2100 is not.   \n",
    "#If the year is not divisible by 100, then it is a leap year if and only if it is divisible by 4. \n",
    "#For example, 2008 is a leap year, but 2009 is not."
   ]
  },
  {
   "cell_type": "code",
   "execution_count": 18,
   "id": "e0f5673e-c086-495e-8af6-844abfff2dd3",
   "metadata": {},
   "outputs": [
    {
     "name": "stdin",
     "output_type": "stream",
     "text": [
      "Please enter a year 2004\n"
     ]
    },
    {
     "name": "stdout",
     "output_type": "stream",
     "text": [
      "This is not a leap year\n"
     ]
    }
   ],
   "source": [
    "year = int(input(\"Please enter a year\"))\n",
    "\n",
    "if (year % 4 ==0 and year % 100 !=0) or (year % 400 ==0):\n",
    "    print(\"This is not a leap year\")\n",
    "else:\n",
    "    print(\"This is a leap year\")"
   ]
  },
  {
   "cell_type": "code",
   "execution_count": 19,
   "id": "478a0b0e-0f34-4c5d-bdab-c43e29d93011",
   "metadata": {},
   "outputs": [],
   "source": [
    "## Question 13 \n",
    "#The Fast Freight Shipping Company charges the following rates: \n",
    "#2 pounds or less = 1.50. \n",
    "#Over 2 pounds but not more than 6 pounds = 3.00. \n",
    "#Over 6 pounds but not more than 10 pounds = 4.00. \n",
    "#Over 10 pounds = $4.75. \n",
    "##Write a program that asks the user to enter the weight of a package then displays the shipping charges."
   ]
  },
  {
   "cell_type": "code",
   "execution_count": 24,
   "id": "606e153c-67bf-445e-bbf7-c42febfed0ca",
   "metadata": {},
   "outputs": [
    {
     "name": "stdin",
     "output_type": "stream",
     "text": [
      "Please enter the weight for the shipping charge 4\n"
     ]
    },
    {
     "name": "stdout",
     "output_type": "stream",
     "text": [
      "The charge is $3.00\n"
     ]
    }
   ],
   "source": [
    "weight = float(input(\"Please enter the weight for the shipping charge\"))\n",
    "if weight <= 2:\n",
    "    print(\"The charge is $1.50\")\n",
    "elif weight > 2 or weight < 6:\n",
    "    print(\"The charge is $3.00\")\n",
    "elif weight > 6 or weight < 10:\n",
    "    print (\"The charge is $4.00\")\n",
    "elif weight > 10:\n",
    "    print (\"The charge is $4.75\")"
   ]
  },
  {
   "cell_type": "code",
   "execution_count": null,
   "id": "5a42b690-c359-4ff3-a68d-b053db9d051b",
   "metadata": {},
   "outputs": [],
   "source": [
    "## This problem I found to be very straight foward and easy. "
   ]
  }
 ],
 "metadata": {
  "kernelspec": {
   "display_name": "Python [conda env:base] *",
   "language": "python",
   "name": "conda-base-py"
  },
  "language_info": {
   "codemirror_mode": {
    "name": "ipython",
    "version": 3
   },
   "file_extension": ".py",
   "mimetype": "text/x-python",
   "name": "python",
   "nbconvert_exporter": "python",
   "pygments_lexer": "ipython3",
   "version": "3.13.5"
  }
 },
 "nbformat": 4,
 "nbformat_minor": 5
}
