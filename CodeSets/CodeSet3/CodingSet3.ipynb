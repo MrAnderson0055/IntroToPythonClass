{
 "cells": [
  {
   "cell_type": "code",
   "execution_count": 1,
   "id": "678360d2-fc7a-42be-a457-4059cd8cba03",
   "metadata": {},
   "outputs": [],
   "source": [
    "#Welcome to my CodingSet3, my name is Bailey :)"
   ]
  },
  {
   "cell_type": "code",
   "execution_count": 2,
   "id": "2db491f2-24ca-4e0f-b9c9-ef07470f1c84",
   "metadata": {
    "scrolled": true
   },
   "outputs": [
    {
     "name": "stdin",
     "output_type": "stream",
     "text": [
      "What is your name? Bailey\n"
     ]
    }
   ],
   "source": [
    "name = input (\"What is your name?\") "
   ]
  },
  {
   "cell_type": "code",
   "execution_count": 3,
   "id": "2c3c98cc-9ba1-4919-9b5a-e58773c04c46",
   "metadata": {},
   "outputs": [],
   "source": [
    "#Had some fun messing around with the if/else for a name input"
   ]
  },
  {
   "cell_type": "code",
   "execution_count": 4,
   "id": "8ddfe6da-ac2c-402b-9023-9939e1ad20e5",
   "metadata": {},
   "outputs": [
    {
     "name": "stdout",
     "output_type": "stream",
     "text": [
      "Welcome back\n"
     ]
    }
   ],
   "source": [
    "if (name==\"Bailey\"):\n",
    "    print (\"Welcome back\")\n",
    "else:\n",
    "    print (\"Welcome to my Coding Set 3 \" , name)"
   ]
  },
  {
   "cell_type": "code",
   "execution_count": 5,
   "id": "2e0474fd-9551-4b6f-8f33-53a5f22ceebe",
   "metadata": {},
   "outputs": [],
   "source": [
    "## Problem 1\n",
    "\n",
    "#From the Algorithm Workbench, Question 2"
   ]
  },
  {
   "cell_type": "code",
   "execution_count": 6,
   "id": "9ea6d99e-e9a5-458d-930f-5088048653fa",
   "metadata": {},
   "outputs": [
    {
     "name": "stdin",
     "output_type": "stream",
     "text": [
      "What is 'a' as a whole number? 4\n"
     ]
    },
    {
     "name": "stdout",
     "output_type": "stream",
     "text": [
      "0 and 1\n"
     ]
    }
   ],
   "source": [
    "b=0\n",
    "c=1\n",
    "a=int(input(\"What is 'a' as a whole number?\"))\n",
    "if a >= 10:\n",
    "    print (\"everything looks good here\")\n",
    "else: \n",
    "    print (b, \"and\", c)\n",
    "    "
   ]
  },
  {
   "cell_type": "code",
   "execution_count": 7,
   "id": "9be60554-cdee-4ef8-b1e8-de758e92e03e",
   "metadata": {},
   "outputs": [],
   "source": [
    "## The problem above took me a little longer than I had expected.\n",
    "# First I was running into issues with \"str\" and \"int\" not going together when I had my else statement because it couldn't define the variables.\n",
    "#I then tried to do too much in my single if statement by putting my variables to change value right after input. This made Python freak out because \n",
    "# I wanted to use the walrus operator in my else statement. I took some time to see if I could fit in an Elif, but it made it too complicated. \n",
    "#I realized that I was overthinking it and went back to my notes on how to assign variables\n",
    "# So I changed my else to assign the variables with a print statement following."
   ]
  },
  {
   "cell_type": "code",
   "execution_count": 8,
   "id": "232f7b28-6552-497e-b657-74a13bb16b3c",
   "metadata": {},
   "outputs": [],
   "source": [
    "## Problem 2\n",
    "\n",
    "#Question 4\n",
    "#The following code contains several nested if-else statements. Unfortunately, it was written without proper alignment and indentation.\n",
    "#Rewrite the code and use the proper conventions of alignment and indentation"
   ]
  },
  {
   "cell_type": "code",
   "execution_count": 14,
   "id": "9f880f17-18a7-42d1-a5fb-55b06be7eb55",
   "metadata": {},
   "outputs": [
    {
     "name": "stdout",
     "output_type": "stream",
     "text": [
      "Your grade is B.\n"
     ]
    }
   ],
   "source": [
    "if score >= A_score:\n",
    "    print (\"Your grade is A.\")\n",
    "else:\n",
    "    if score >= B_score:\n",
    "        print (\"Your grade is B.\")\n",
    "    else:\n",
    "        if score >= C_score:\n",
    "            print (\"Your grade is C.\")\n",
    "        else:\n",
    "            if score >= D_score:\n",
    "                print (\"Your grade is D.\")\n",
    "            else:\n",
    "                print (\"Your grade is F.\")\n",
    "    "
   ]
  },
  {
   "cell_type": "code",
   "execution_count": null,
   "id": "c28db09b-bce5-4409-b9dd-1929b58d7ceb",
   "metadata": {},
   "outputs": [],
   "source": [
    "##This problem was easy, I had to hold back the urge to fix it with Elif. It is still easy to follow and read what the code is going to do. Only \n",
    "#Only issue I can see myself running into is if this becomes a long list is finding proper indentation.\n",
    "# Below is how I would have written it"
   ]
  },
  {
   "cell_type": "code",
   "execution_count": 15,
   "id": "bbf58e3e-88f4-4ea6-93ce-04f4c0601181",
   "metadata": {},
   "outputs": [
    {
     "name": "stdin",
     "output_type": "stream",
     "text": [
      "What is you score in a full number? 85\n"
     ]
    },
    {
     "name": "stdout",
     "output_type": "stream",
     "text": [
      "Your grade is B.\n"
     ]
    }
   ],
   "source": [
    "score = int(input(\"What is you score in a full number?\"))\n",
    "A_score=91\n",
    "B_score=81\n",
    "C_score=71\n",
    "D_score=60\n",
    "if score >= A_score:\n",
    "    print (\"Your grade is A.\")\n",
    "elif score >= B_score:\n",
    "    print (\"Your grade is B.\")\n",
    "elif score >= C_score:\n",
    "    print (\"Your grade is C.\")\n",
    "elif score >= D_score:\n",
    "    print (\"Your grade is D.\")\n",
    "else:\n",
    "    print (\"Your grade is F.\")\n"
   ]
  },
  {
   "cell_type": "code",
   "execution_count": null,
   "id": "0d1bc343-cad1-46aa-bfe6-a44ee55eca3b",
   "metadata": {},
   "outputs": [],
   "source": [
    "## Problem 3\n",
    "\n",
    "#Question 5\n",
    "#Write nested decision structures that perform the following:\n",
    "#If amount_1 is greater than 10 and amount_2 is less than 100, display the greater amount_1 and amount_2"
   ]
  },
  {
   "cell_type": "code",
   "execution_count": 13,
   "id": "c097566e-ce68-4733-a893-fc728482e22b",
   "metadata": {},
   "outputs": [
    {
     "name": "stdin",
     "output_type": "stream",
     "text": [
      "what is your first amount? It must be greater than 10 15\n",
      "what is your second amount? It must be smaller than 100 25\n"
     ]
    },
    {
     "name": "stdout",
     "output_type": "stream",
     "text": [
      "25 is bigger \n"
     ]
    }
   ],
   "source": [
    "\n",
    "amount_1=int(input(\"what is your first amount? It must be greater than 10\"))\n",
    "amount_2=int(input(\"what is your second amount? It must be smaller than 100\"))\n",
    "\n",
    "if amount_1 > 10:\n",
    "    if amount_2 < 100:\n",
    "        if amount_1 > amount_2:\n",
    "            print (amount_1 ,\"is bigger\")\n",
    "        else:\n",
    "            print (amount_2 ,\"is bigger \")\n",
    "    else:\n",
    "        print (amount_2, \"is not less than 100\")\n",
    "else: \n",
    "    print (amount_1, \"is not biger than 10\")\n"
   ]
  },
  {
   "cell_type": "code",
   "execution_count": null,
   "id": "f400f488-969c-4c37-8176-69a6f4bb068b",
   "metadata": {},
   "outputs": [],
   "source": [
    "## First, I am letting the user designate the amounts for the variables.\n",
    "#Next, I made a basic nested if/else with print back\n",
    "#I did a test and found I needed commas. I feel like I always forget them in my print.\n",
    "# Added some more elses but went back trough to find areas for elif which I could not find a way to use."
   ]
  }
 ],
 "metadata": {
  "kernelspec": {
   "display_name": "Python [conda env:base] *",
   "language": "python",
   "name": "conda-base-py"
  },
  "language_info": {
   "codemirror_mode": {
    "name": "ipython",
    "version": 3
   },
   "file_extension": ".py",
   "mimetype": "text/x-python",
   "name": "python",
   "nbconvert_exporter": "python",
   "pygments_lexer": "ipython3",
   "version": "3.13.5"
  }
 },
 "nbformat": 4,
 "nbformat_minor": 5
}
