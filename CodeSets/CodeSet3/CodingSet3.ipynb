{
 "cells": [
  {
   "cell_type": "code",
   "execution_count": 1,
   "id": "678360d2-fc7a-42be-a457-4059cd8cba03",
   "metadata": {},
   "outputs": [],
   "source": [
    "#Welcome to my CodingSet3 :)"
   ]
  },
  {
   "cell_type": "code",
   "execution_count": 2,
   "id": "2db491f2-24ca-4e0f-b9c9-ef07470f1c84",
   "metadata": {
    "scrolled": true
   },
   "outputs": [
    {
     "name": "stdin",
     "output_type": "stream",
     "text": [
      "What is your name? Bailey\n"
     ]
    }
   ],
   "source": [
    "name = input (\"What is your name?\") "
   ]
  },
  {
   "cell_type": "code",
   "execution_count": 4,
   "id": "2c3c98cc-9ba1-4919-9b5a-e58773c04c46",
   "metadata": {},
   "outputs": [],
   "source": [
    "#Had some fun messing around with the if/else for a name input"
   ]
  },
  {
   "cell_type": "code",
   "execution_count": 3,
   "id": "8ddfe6da-ac2c-402b-9023-9939e1ad20e5",
   "metadata": {},
   "outputs": [
    {
     "name": "stdout",
     "output_type": "stream",
     "text": [
      "Welcome back\n"
     ]
    }
   ],
   "source": [
    "if (name==\"Bailey\"):\n",
    "    print (\"Welcome back\")\n",
    "else:\n",
    "    print (\"Welcome to my Coding Set 3 \" + name)"
   ]
  },
  {
   "cell_type": "code",
   "execution_count": null,
   "id": "2e0474fd-9551-4b6f-8f33-53a5f22ceebe",
   "metadata": {},
   "outputs": [],
   "source": []
  }
 ],
 "metadata": {
  "kernelspec": {
   "display_name": "Python [conda env:base] *",
   "language": "python",
   "name": "conda-base-py"
  },
  "language_info": {
   "codemirror_mode": {
    "name": "ipython",
    "version": 3
   },
   "file_extension": ".py",
   "mimetype": "text/x-python",
   "name": "python",
   "nbconvert_exporter": "python",
   "pygments_lexer": "ipython3",
   "version": "3.13.5"
  }
 },
 "nbformat": 4,
 "nbformat_minor": 5
}
