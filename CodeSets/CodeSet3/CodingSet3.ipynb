{
 "cells": [
  {
   "cell_type": "code",
   "execution_count": 22,
   "id": "678360d2-fc7a-42be-a457-4059cd8cba03",
   "metadata": {},
   "outputs": [],
   "source": [
    "#Welcome to my CodingSet3, my name is Bailey :)"
   ]
  },
  {
   "cell_type": "code",
   "execution_count": 23,
   "id": "2db491f2-24ca-4e0f-b9c9-ef07470f1c84",
   "metadata": {
    "scrolled": true
   },
   "outputs": [
    {
     "name": "stdin",
     "output_type": "stream",
     "text": [
      "What is your name? Bailey\n"
     ]
    }
   ],
   "source": [
    "name = input (\"What is your name?\") "
   ]
  },
  {
   "cell_type": "code",
   "execution_count": 24,
   "id": "2c3c98cc-9ba1-4919-9b5a-e58773c04c46",
   "metadata": {},
   "outputs": [],
   "source": [
    "#Had some fun messing around with the if/else for a name input"
   ]
  },
  {
   "cell_type": "code",
   "execution_count": 25,
   "id": "8ddfe6da-ac2c-402b-9023-9939e1ad20e5",
   "metadata": {},
   "outputs": [
    {
     "name": "stdout",
     "output_type": "stream",
     "text": [
      "Welcome back\n"
     ]
    }
   ],
   "source": [
    "if (name==\"Bailey\"):\n",
    "    print (\"Welcome back\")\n",
    "else:\n",
    "    print (\"Welcome to my Coding Set 3 \" + name)"
   ]
  },
  {
   "cell_type": "code",
   "execution_count": 26,
   "id": "2e0474fd-9551-4b6f-8f33-53a5f22ceebe",
   "metadata": {},
   "outputs": [],
   "source": [
    "## Problem 1\n",
    "\n",
    "#From the Algorithm Workbench, Question 2"
   ]
  },
  {
   "cell_type": "code",
   "execution_count": 27,
   "id": "9ea6d99e-e9a5-458d-930f-5088048653fa",
   "metadata": {},
   "outputs": [
    {
     "name": "stdin",
     "output_type": "stream",
     "text": [
      "What is 'a' as a whole number? 8\n"
     ]
    },
    {
     "name": "stdout",
     "output_type": "stream",
     "text": [
      "0 and 1\n"
     ]
    }
   ],
   "source": [
    "a=int(input(\"What is 'a' as a whole number?\"))\n",
    "if a >= 10:\n",
    "    print (\"everything looks good here\")\n",
    "else: \n",
    "    b==0 and c==1\n",
    "    print (b, \"and\", c)\n",
    "    "
   ]
  },
  {
   "cell_type": "code",
   "execution_count": 28,
   "id": "9be60554-cdee-4ef8-b1e8-de758e92e03e",
   "metadata": {},
   "outputs": [],
   "source": [
    "## The problem above took me a little longer than I had expected.\n",
    "# First I was running into issues with \"str\" and \"int\" not going together when I had my else statement because it couldn't define the variables.\n",
    "#I then tried to do too much in my single if statement by putting my variables to change value right after input. This made python freak out because \n",
    "# I wanted to use the walrus operator in my else statement. I took some time to see if I could fit in an Elif but it made it too complicated. \n",
    "#I realized that I was overthinking it and went back to my notes on how to assign variables\n",
    "# So I changed my else to assign the variables with a print statement followinig."
   ]
  },
  {
   "cell_type": "code",
   "execution_count": 29,
   "id": "232f7b28-6552-497e-b657-74a13bb16b3c",
   "metadata": {},
   "outputs": [],
   "source": [
    "## Problem 2"
   ]
  },
  {
   "cell_type": "code",
   "execution_count": null,
   "id": "9f880f17-18a7-42d1-a5fb-55b06be7eb55",
   "metadata": {},
   "outputs": [],
   "source": []
  },
  {
   "cell_type": "code",
   "execution_count": 30,
   "id": "0d1bc343-cad1-46aa-bfe6-a44ee55eca3b",
   "metadata": {},
   "outputs": [],
   "source": [
    "## Problem 3"
   ]
  },
  {
   "cell_type": "code",
   "execution_count": null,
   "id": "c097566e-ce68-4733-a893-fc728482e22b",
   "metadata": {},
   "outputs": [],
   "source": []
  }
 ],
 "metadata": {
  "kernelspec": {
   "display_name": "Python [conda env:base] *",
   "language": "python",
   "name": "conda-base-py"
  },
  "language_info": {
   "codemirror_mode": {
    "name": "ipython",
    "version": 3
   },
   "file_extension": ".py",
   "mimetype": "text/x-python",
   "name": "python",
   "nbconvert_exporter": "python",
   "pygments_lexer": "ipython3",
   "version": "3.13.5"
  }
 },
 "nbformat": 4,
 "nbformat_minor": 5
}
