{
 "cells": [
  {
   "cell_type": "code",
   "execution_count": 1,
   "id": "ecac6cf7-39fc-494d-b4d6-9d9df8d94b54",
   "metadata": {},
   "outputs": [],
   "source": [
    "## Welcome to my Coding Set 4"
   ]
  },
  {
   "cell_type": "code",
   "execution_count": 2,
   "id": "6581a4ab-c9a3-440f-b6e0-577862212a84",
   "metadata": {},
   "outputs": [
    {
     "name": "stdout",
     "output_type": "stream",
     "text": [
      "Hello there!\n"
     ]
    }
   ],
   "source": [
    "print (\"Hello there!\")"
   ]
  },
  {
   "cell_type": "code",
   "execution_count": 3,
   "id": "c8fef965-bb5e-4ccb-8aa9-651ae8d31cb2",
   "metadata": {},
   "outputs": [],
   "source": [
    "#Algorithm Workbench #2\n",
    "#Write a while loop that asks the user to enter two numbers. The numbers should be added and displayed. The loop should ask the user\n",
    "# if he or she wishes to perform the operation again. If so, the loop should repeat, otherwise it should terminate."
   ]
  },
  {
   "cell_type": "code",
   "execution_count": 4,
   "id": "16777944-c219-4f90-886d-ae2024d2b626",
   "metadata": {},
   "outputs": [
    {
     "name": "stdout",
     "output_type": "stream",
     "text": [
      "Today lets do some simple addtion\n"
     ]
    },
    {
     "name": "stdin",
     "output_type": "stream",
     "text": [
      "Please enter the first number 4\n",
      "What is the second number we are adding 4\n"
     ]
    },
    {
     "name": "stdout",
     "output_type": "stream",
     "text": [
      "8\n"
     ]
    },
    {
     "name": "stdin",
     "output_type": "stream",
     "text": [
      "would you like to try again (y/n) 4\n"
     ]
    },
    {
     "name": "stdout",
     "output_type": "stream",
     "text": [
      "Hope you had fun\n"
     ]
    }
   ],
   "source": [
    "print('Today lets do some simple addtion')\n",
    "val_1=int(input(\"Please enter the first number\"))\n",
    "val_2=int(input(\"What is the second number we are adding\"))\n",
    "fin_val = val_1 + val_2\n",
    "print (fin_val)\n",
    "rerun=input(\"would you like to try again (y/n)\")\n",
    "while rerun == \"y\":\n",
    "    val_1==int(input('Please enter the first number'))\n",
    "    val_2==int(input('What is the second number we are adding'))\n",
    "    fin_val=val_1+val_2\n",
    "    print (fin_val)\n",
    "    rerun=input(\"Would you like another one (y/n)\")\n",
    "else:\n",
    "    rerun == \"n\"\n",
    "    print (\"Hope you had fun\")\n"
   ]
  },
  {
   "cell_type": "code",
   "execution_count": 5,
   "id": "ff30a8d9-6b56-4534-b539-c64095ed7783",
   "metadata": {},
   "outputs": [],
   "source": [
    "#This was an interesting one, I would like to try something like this again. I was trying to use multiple inputs and got a Kernal Error. I think \n",
    "# an F string might work but with the input I'm not assigning variables. \n",
    "# I need to go back into the lectures to re-learn f strings lol"
   ]
  },
  {
   "cell_type": "code",
   "execution_count": 6,
   "id": "85049fd0-07c1-40a2-b7fc-f2eaccc4ae85",
   "metadata": {},
   "outputs": [],
   "source": [
    "#Algorithm Workbench #8\n",
    "# Write code that prompts users to enter a postive nonzero number and validates the input"
   ]
  },
  {
   "cell_type": "code",
   "execution_count": 7,
   "id": "4a69d047-32ef-4e4c-bcbd-57ab3439f021",
   "metadata": {},
   "outputs": [
    {
     "name": "stdin",
     "output_type": "stream",
     "text": [
      "Please input a positive number thats not 0: 4\n"
     ]
    },
    {
     "name": "stdout",
     "output_type": "stream",
     "text": [
      "Thank you for entering 4.0\n"
     ]
    }
   ],
   "source": [
    "num=float(input('Please input a positive number thats not 0:'))\n",
    "while (num <= 0):\n",
    "    print(\"That wasn't quite right\")\n",
    "    break\n",
    "else: \n",
    "    num>0, print (\"Thank you for entering\", num)\n",
    "\n",
    "    "
   ]
  },
  {
   "cell_type": "code",
   "execution_count": 8,
   "id": "a0e182e8-7eb8-4aa0-95a2-71a20a7c8a43",
   "metadata": {},
   "outputs": [],
   "source": [
    "#I found this problem to be pretty straight foward, I wanted to try using break in this instead of prompting for another input \n",
    "#just to see how it would work."
   ]
  },
  {
   "cell_type": "code",
   "execution_count": 9,
   "id": "7d2e8a63-8ff9-4b88-ad87-97baa3feb9b8",
   "metadata": {},
   "outputs": [],
   "source": [
    "#Programming Exercises #11\n",
    "#In mathematics, the notation n! represents the factorial of nonnegative integer n. The factorial of n is the product of all the nonnegative intergers\n",
    "#from 1 to n. For example:\n",
    "\n",
    "#      7!=1x2x3x4x5x6x7=5,040\n",
    "#  and\n",
    "#      4!=1x2x3x4=24\n",
    "\n",
    "# Write a program that lets the user enter a nonnegative interger then uses a loop to calculate the factorial of the number.\n",
    "# Display the factorial."
   ]
  },
  {
   "cell_type": "code",
   "execution_count": 25,
   "id": "6eb73f52-1055-46a1-b8c1-5d435e41c9a4",
   "metadata": {},
   "outputs": [
    {
     "name": "stdin",
     "output_type": "stream",
     "text": [
      "Please enter a non negative number 3\n"
     ]
    },
    {
     "name": "stdout",
     "output_type": "stream",
     "text": [
      "3\n"
     ]
    }
   ],
   "source": [
    "n=int(input('Please enter a non negative number'))\n",
    "F_A=1\n",
    "nL=n * F_A\n",
    "for R_ange in range (1,n+1):\n",
    "    F_A *= R_ange\n",
    "print(nL)\n",
    "\n",
    "\n",
    "\n",
    "    "
   ]
  },
  {
   "cell_type": "code",
   "execution_count": null,
   "id": "101c983a-509d-4cb5-83b2-938cdf40ca71",
   "metadata": {},
   "outputs": [],
   "source": [
    "#I couldn't quite figure how to do this."
   ]
  },
  {
   "cell_type": "code",
   "execution_count": null,
   "id": "2d9cbc38-ad7b-49d9-845f-d7bb8862e410",
   "metadata": {},
   "outputs": [],
   "source": [
    "#Programming Exercises #13\n",
    "#write a program that uses nested loops to draw this pattern:\n",
    "#*********\n",
    "#********\n",
    "#*******\n",
    "#******\n",
    "#*****\n",
    "#****\n",
    "#***\n",
    "#**\n",
    "#*"
   ]
  },
  {
   "cell_type": "code",
   "execution_count": null,
   "id": "823acd9c-fbff-4ce2-86e5-bdda8da2f500",
   "metadata": {},
   "outputs": [],
   "source": []
  },
  {
   "cell_type": "code",
   "execution_count": null,
   "id": "dbed9cbd-812d-4be6-8741-f33c90c0c2fc",
   "metadata": {},
   "outputs": [],
   "source": [
    "#Programming Exercises #1"
   ]
  },
  {
   "cell_type": "code",
   "execution_count": null,
   "id": "c1d76b48-c3c8-4eac-b5d3-e2d3f3feac15",
   "metadata": {},
   "outputs": [],
   "source": [
    "#A bug collector collects every day for five days. Write a program that keeps a running total of the number of bugs collected during the five days.\n",
    "#The loop should ask for the number of bugs collected each day, and when the loop is finished, the program should display the total number of bugs \n",
    "#collected"
   ]
  },
  {
   "cell_type": "code",
   "execution_count": null,
   "id": "7b8d060c-353a-4e71-b0f6-92c6ed34875c",
   "metadata": {},
   "outputs": [],
   "source": [
    "caught_bugs=input(\"Did you catch any bugs over the past 5 days? (y/n)\")\n",
    "while caught_bugs == 'y':\n",
    "    day1=int(input(\"How many bugs did you catch on day one?\"))\n",
    "    day2=int(input(\"How many bugs did you catch on day two?\"))\n",
    "    day3=int(input(\"How many bugs did you catch on day three?\"))\n",
    "    day4=int(input(\"How many bugs did you catch on day four?\"))\n",
    "    day5=int(input(\"How many bugs did you catch on day five?\"))\n",
    "    all_bugs=day1+day2+day3+day4+day5\n",
    "    print(all_bugs, \"is how many bugs you have caught\")\n",
    "    caught_bugs=input(\"Did you catch any bugs over the past 5 days? (y/n)\")\n",
    "else:\n",
    "    print (\"Please try to catch some bugs\")"
   ]
  },
  {
   "cell_type": "code",
   "execution_count": null,
   "id": "0ec42962-9db6-4247-be2a-c7f65dfc011d",
   "metadata": {},
   "outputs": [],
   "source": [
    "#I found this one to be both fun but tedious at the same time by having to assign days.\n",
    "#After doing the problems above I felt confident to get this one done with ease."
   ]
  },
  {
   "cell_type": "code",
   "execution_count": null,
   "id": "812990f0-9dfc-494d-9187-7f16d18ffe78",
   "metadata": {},
   "outputs": [],
   "source": [
    "#Programming Exercises #4\n",
    "#The distance a vehicle travels can be calculated as follows: distance = speed x time\n",
    "#For example, if a train travels 40 miles per hour for three hours, the distance traveled is 120 miles. \n",
    "#Write a program that asks the user for the speed of a vehicle (in miles per hour) and the number of hours it has traveled. \n",
    "#It should then use a loop to display the distance the vehicle has traveled for each hour of that time period. "
   ]
  },
  {
   "cell_type": "code",
   "execution_count": null,
   "id": "43928d4b-90e2-473b-879b-db37385b6dba",
   "metadata": {},
   "outputs": [],
   "source": [
    "speed=int(input(\"How fast are you driving in miles per hour?\"))\n",
    "hours=int(input(\"How many hours have you driven today?\"))\n",
    "\n",
    "for hours in range(1,24):\n",
    "    if hours>24:\n",
    "        break\n",
    "        print(\"There isn't that many hours in a day\")\n",
    "        \n",
    "    else:\n",
    "        distance=speed*hours\n",
    "        print(distance)\n"
   ]
  },
  {
   "cell_type": "code",
   "execution_count": null,
   "id": "50d98ffd-2136-4f68-872e-9e79560ba02a",
   "metadata": {},
   "outputs": [],
   "source": [
    "##I couldn't quite figure out how to get just the set number of hours to show so it put a full 24 hrs.\n",
    "# I also tried to break the loop if it went over 24 hours and it doesn't seem to work."
   ]
  }
 ],
 "metadata": {
  "kernelspec": {
   "display_name": "Python [conda env:base] *",
   "language": "python",
   "name": "conda-base-py"
  },
  "language_info": {
   "codemirror_mode": {
    "name": "ipython",
    "version": 3
   },
   "file_extension": ".py",
   "mimetype": "text/x-python",
   "name": "python",
   "nbconvert_exporter": "python",
   "pygments_lexer": "ipython3",
   "version": "3.13.5"
  }
 },
 "nbformat": 4,
 "nbformat_minor": 5
}
