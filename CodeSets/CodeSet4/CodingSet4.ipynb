{
 "cells": [
  {
   "cell_type": "code",
   "execution_count": 1,
   "id": "ecac6cf7-39fc-494d-b4d6-9d9df8d94b54",
   "metadata": {},
   "outputs": [],
   "source": [
    "## Welcome to my Coding Set 4"
   ]
  },
  {
   "cell_type": "code",
   "execution_count": 3,
   "id": "6581a4ab-c9a3-440f-b6e0-577862212a84",
   "metadata": {},
   "outputs": [
    {
     "name": "stdout",
     "output_type": "stream",
     "text": [
      "Hello there!\n"
     ]
    }
   ],
   "source": [
    "print (\"Hello there!\")"
   ]
  },
  {
   "cell_type": "code",
   "execution_count": null,
   "id": "c8fef965-bb5e-4ccb-8aa9-651ae8d31cb2",
   "metadata": {},
   "outputs": [],
   "source": []
  }
 ],
 "metadata": {
  "kernelspec": {
   "display_name": "Python [conda env:base] *",
   "language": "python",
   "name": "conda-base-py"
  },
  "language_info": {
   "codemirror_mode": {
    "name": "ipython",
    "version": 3
   },
   "file_extension": ".py",
   "mimetype": "text/x-python",
   "name": "python",
   "nbconvert_exporter": "python",
   "pygments_lexer": "ipython3",
   "version": "3.13.5"
  }
 },
 "nbformat": 4,
 "nbformat_minor": 5
}
