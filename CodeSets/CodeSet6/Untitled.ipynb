{
 "cells": [
  {
   "cell_type": "code",
   "execution_count": 1,
   "id": "a1ee5942-21ba-4cfa-ac06-5d118b291266",
   "metadata": {},
   "outputs": [],
   "source": [
    "## My Coding Set 6\n",
    "# Enjoy"
   ]
  },
  {
   "cell_type": "code",
   "execution_count": 2,
   "id": "093d089d-61c6-4681-a354-69cb7e690c30",
   "metadata": {},
   "outputs": [
    {
     "name": "stdout",
     "output_type": "stream",
     "text": [
      "HELLO\n"
     ]
    }
   ],
   "source": [
    "print(\"HELLO\")"
   ]
  },
  {
   "cell_type": "code",
   "execution_count": null,
   "id": "06cee2c8-6730-4ac0-b62b-90d86bdd3ab4",
   "metadata": {},
   "outputs": [],
   "source": []
  },
  {
   "cell_type": "code",
   "execution_count": null,
   "id": "1f980964-5ae9-488b-a40c-9791bc541ac1",
   "metadata": {},
   "outputs": [],
   "source": []
  },
  {
   "cell_type": "code",
   "execution_count": null,
   "id": "fd3f47fa-8c6b-45e5-97b9-e8b2aded48f0",
   "metadata": {},
   "outputs": [],
   "source": []
  }
 ],
 "metadata": {
  "kernelspec": {
   "display_name": "Python [conda env:base] *",
   "language": "python",
   "name": "conda-base-py"
  },
  "language_info": {
   "codemirror_mode": {
    "name": "ipython",
    "version": 3
   },
   "file_extension": ".py",
   "mimetype": "text/x-python",
   "name": "python",
   "nbconvert_exporter": "python",
   "pygments_lexer": "ipython3",
   "version": "3.13.5"
  }
 },
 "nbformat": 4,
 "nbformat_minor": 5
}
