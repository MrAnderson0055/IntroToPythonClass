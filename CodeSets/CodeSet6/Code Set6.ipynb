{
 "cells": [
  {
   "cell_type": "code",
   "execution_count": 1,
   "id": "a1ee5942-21ba-4cfa-ac06-5d118b291266",
   "metadata": {},
   "outputs": [],
   "source": [
    "## My Coding Set 6\n",
    "# Enjoy"
   ]
  },
  {
   "cell_type": "code",
   "execution_count": 2,
   "id": "093d089d-61c6-4681-a354-69cb7e690c30",
   "metadata": {},
   "outputs": [],
   "source": [
    "## Algorithm Workbench #1 & #2\n",
    "#1\n",
    "#  Write a program that opens an output file with the filename, writes your name to the file, then closes the file.\n",
    "\n",
    "#2\n",
    "#  Write a program that opens the  file that was created by the program in problem 1, \n",
    "#  reads your name from the file, displays the name on the screen, then closes the file."
   ]
  },
  {
   "cell_type": "code",
   "execution_count": 26,
   "id": "06cee2c8-6730-4ac0-b62b-90d86bdd3ab4",
   "metadata": {},
   "outputs": [
    {
     "name": "stdin",
     "output_type": "stream",
     "text": [
      "Please enter your name. Bailey\n"
     ]
    },
    {
     "name": "stdout",
     "output_type": "stream",
     "text": [
      "Bailey\n",
      "\n"
     ]
    }
   ],
   "source": [
    "def main():\n",
    "    with open('my_name.txt','w') as file:\n",
    "        user_input=input(\"Please enter your name.\")    \n",
    "        file.write(user_input + '\\n')\n",
    "    with open('my_name.txt','r') as file:\n",
    "        UN=file.read()\n",
    "        print(UN)\n",
    "main()\n",
    "##I had a struggle with this one because I didn't watch the With video, I kept trying to use close and run everything in 1 line.\n",
    "## After I had watched the With video it made much more sense.\n",
    "## I felt the need to go beyond a simple write command and wanted to try using an Input\n",
    "## This gave me a hard time because having to create 2 With commands was not what I was expecting. I did use CHATGPT to help because \n",
    "## I couldn't understand why it wasn't working with the first portion of my code. I had defined everything and still would error me. "
   ]
  },
  {
   "cell_type": "code",
   "execution_count": null,
   "id": "1f980964-5ae9-488b-a40c-9791bc541ac1",
   "metadata": {},
   "outputs": [],
   "source": [
    "#Programming exercise #1\n",
    "##Assume a file containing a series of integers is named  and exists on the computer’s disk. \n",
    "# Write a program that displays all of the numbers in the file."
   ]
  },
  {
   "cell_type": "code",
   "execution_count": 30,
   "id": "fd3f47fa-8c6b-45e5-97b9-e8b2aded48f0",
   "metadata": {},
   "outputs": [
    {
     "name": "stdout",
     "output_type": "stream",
     "text": [
      "1\n",
      "23\n",
      "4656\n",
      "55\n",
      "678\n",
      "42\n",
      "99\n",
      "1056\n",
      "1024\n",
      "7832\n",
      "767\n",
      "234\n",
      "768\n",
      "0\n"
     ]
    }
   ],
   "source": [
    "RN=open('Random_numbers.txt','r')\n",
    "for line in RN:\n",
    "    num=int(line)\n",
    "    print(num)\n",
    "RN.close()\n",
    "\n",
    "\n",
    "\n",
    "##This problem was pretty easy. I just created a file with numbers I had already put numbers in it to display"
   ]
  },
  {
   "cell_type": "code",
   "execution_count": null,
   "id": "6f081d06-97f9-4e1e-94d4-5bd0930c0b74",
   "metadata": {},
   "outputs": [],
   "source": [
    "#Programming exercise #6\n",
    "#Assume a file containing a series of integers is named  and exists on the computer’s disk. \n",
    "#Write a program that calculates the average of all the numbers stored in the file.\n",
    "\n",
    "#Programming exercise #9\n",
    "#Modify the program that you wrote for Exercise 6 so it handles the following exceptions:\n",
    "#It should handle any IOError exceptions that are raised when the file is opened and data is read from it.\n",
    "#It should handle any ValueError exceptions that are raised when the items that are read from the file are converted to a number."
   ]
  },
  {
   "cell_type": "code",
   "execution_count": 51,
   "id": "b23968e6-c914-4c4d-b82c-1204cfed2cf4",
   "metadata": {},
   "outputs": [
    {
     "name": "stdout",
     "output_type": "stream",
     "text": [
      "1231.0714285714287\n"
     ]
    }
   ],
   "source": [
    "try:\n",
    "    with open('Random_numbers.txt','r') as file:\n",
    "        num=file.read().split()\n",
    "        num=[int(n) for n in num]\n",
    "        an=sum(num)/len(num)\n",
    "        print(an)\n",
    "except IOError:\n",
    "    print(\"This is an error, try again\")\n",
    "except ValueError:\n",
    "    print(\"This is an error, try again\")   \n",
    "\n",
    "    \n",
    "\n",
    "    \n",
    "    \n",
    "## Using the problem above, I took the file I had already created and used it for this problem.\n",
    "## I kept having a problem with converting my list of numbers to int format and looked up some different operators.\n",
    "## I found split as a way to break the numbers up and len to convert the numbers\n",
    "## I tried to have everything condensed down and I was very surprised by how I did. Im hoping I can keep up on short code.\n",
    "\n",
    "\n",
    "## Part 9 was very easy, adding an exception was very straightforward. I'm not too sure how this could be an issue\n",
    "## when it's all just read, but I guess a user could somehow break it. "
   ]
  },
  {
   "cell_type": "code",
   "execution_count": null,
   "id": "9c0b1e8d-e7cb-467d-a070-997f4b423476",
   "metadata": {},
   "outputs": [],
   "source": [
    "#Programming exercise #4\n",
    "#Assume a file containing a series of names (as strings) is named names.txt and exists on the computer’s disk. \n",
    "#Write a program that displays the number of names that are stored in the file."
   ]
  },
  {
   "cell_type": "code",
   "execution_count": 67,
   "id": "1d1a8ef7-ee9c-43bb-a402-27344c130332",
   "metadata": {},
   "outputs": [
    {
     "name": "stdout",
     "output_type": "stream",
     "text": [
      "Ther are 5 names in this file\n"
     ]
    }
   ],
   "source": [
    "def main():\n",
    "    try:\n",
    "        with open('names.txt','r') as file2:\n",
    "            nl=file2.readlines()\n",
    "            count = len(nl)\n",
    "            print(f'Ther are {count} names in this file')\n",
    "    except IOError:\n",
    "        print(\"THIS IS AN ERROR\")\n",
    "main()\n",
    "\n",
    "\n",
    "## First I created a file with some random names in it. Ran it to see if it would find it. \n",
    "## Once it found it I tried to run with just the with but realized I needed a def because of functions I would be using.\n",
    "## After that was done I kept getting an error for a file that was closed and realized that I had named this one file2 and forgot my 2.\n",
    "## Once that was done, for some reason Main needed an exception so I threw one in from the problem above. "
   ]
  },
  {
   "cell_type": "code",
   "execution_count": null,
   "id": "8360d52a-b78b-4a4c-9cbe-547eeb252602",
   "metadata": {},
   "outputs": [],
   "source": []
  }
 ],
 "metadata": {
  "kernelspec": {
   "display_name": "Python [conda env:base] *",
   "language": "python",
   "name": "conda-base-py"
  },
  "language_info": {
   "codemirror_mode": {
    "name": "ipython",
    "version": 3
   },
   "file_extension": ".py",
   "mimetype": "text/x-python",
   "name": "python",
   "nbconvert_exporter": "python",
   "pygments_lexer": "ipython3",
   "version": "3.13.5"
  }
 },
 "nbformat": 4,
 "nbformat_minor": 5
}
