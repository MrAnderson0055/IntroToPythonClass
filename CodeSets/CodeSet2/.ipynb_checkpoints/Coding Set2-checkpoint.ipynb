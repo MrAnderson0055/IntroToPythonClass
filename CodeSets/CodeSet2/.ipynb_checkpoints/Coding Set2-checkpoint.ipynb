{
 "cells": [
  {
   "cell_type": "code",
   "execution_count": 1,
   "id": "328f69d2-4daf-4497-9133-8cf93e5db95c",
   "metadata": {},
   "outputs": [],
   "source": [
    "##This is my 2nd notebook for CodingSet2"
   ]
  },
  {
   "cell_type": "code",
   "execution_count": 2,
   "id": "b8b488a3-72ef-40ad-8749-a0daec2d641d",
   "metadata": {},
   "outputs": [
    {
     "name": "stdin",
     "output_type": "stream",
     "text": [
      "What is your name? Bailey\n"
     ]
    }
   ],
   "source": [
    "name = input (\"What is your name?\")"
   ]
  },
  {
   "cell_type": "code",
   "execution_count": 3,
   "id": "a7be85f2-7c04-4644-a6b1-17adaa34cd26",
   "metadata": {},
   "outputs": [
    {
     "name": "stdout",
     "output_type": "stream",
     "text": [
      "Hello, Bailey. Welcome to my Coding Set 2.\n"
     ]
    }
   ],
   "source": [
    "print (\"Hello, \" + name + \". Welcome to my Coding Set 2.\") ##After watching the lecture Video I realized I could have used a F String for this.\n",
    "## I felt like this format used above helped with putting a message at the end of the input. "
   ]
  },
  {
   "cell_type": "code",
   "execution_count": 4,
   "id": "c914432d-3bf3-4fd6-bb8b-0008655a9513",
   "metadata": {},
   "outputs": [],
   "source": [
    "## Problem 1. Write Python code that prompts the user to enter his or her height and assigns the user's input to variable named height."
   ]
  },
  {
   "cell_type": "code",
   "execution_count": 5,
   "id": "5c866c49-f011-4077-8c9c-2fb1296b02fc",
   "metadata": {},
   "outputs": [
    {
     "name": "stdin",
     "output_type": "stream",
     "text": [
      "How tall are you Bailey? 67 inches\n"
     ]
    }
   ],
   "source": [
    "height = input (\"How tall are you \" + name + \"?\") ## I used the name variable above for this question."
   ]
  },
  {
   "cell_type": "code",
   "execution_count": 6,
   "id": "84d9e99a-00ea-43f4-90ed-d1ef348a5744",
   "metadata": {},
   "outputs": [
    {
     "name": "stdout",
     "output_type": "stream",
     "text": [
      "So you are 67 inches? Very cool!\n"
     ]
    }
   ],
   "source": [
    "print (\"So you are \" + height + \"? Very cool!\") #I felt like the variable should be printed to show it worked."
   ]
  },
  {
   "cell_type": "code",
   "execution_count": 7,
   "id": "52e80860-bf9a-4cba-9b1d-8d96bf4958b6",
   "metadata": {},
   "outputs": [],
   "source": [
    "## Problem 2.\n",
    "#5. Distance Traveled\n",
    "# Assuming there are no accidents or delays, the distance that a car travels down the interstate can be calculated with the following formula:\n",
    "# Distance = Speed x time\n",
    "\n",
    "## A car is traveling at 70 miles per hour. Wite a program that displays the following:\n",
    "# The distance the car will travel in 6 hours\n",
    "# The distance the car will travel in 10 hours\n",
    "# The distance the car will travel in 15 hours"
   ]
  },
  {
   "cell_type": "code",
   "execution_count": 8,
   "id": "b5dcbc25-0377-4694-b91c-6067ae7dd65c",
   "metadata": {},
   "outputs": [
    {
     "name": "stdout",
     "output_type": "stream",
     "text": [
      "If the car is going 70mph for 6 hours, it will go 420.0 miles\n",
      "If the car is going 70mph for 10 hours, it will go 700.0 miles\n",
      "If the car is going 70mph for 15 hours, it will go 1050.0 miles\n"
     ]
    }
   ],
   "source": [
    "Speed = 70                ## after messing around with the float and print for a while, I realized I needed a comma to break it up.\n",
    "D1 = 6                    ## I assigned the time and speed a value so that the formula would print the final result. \n",
    "D2 = 10                   ## Definitely learning more on the print options with different syntax and what works in the coding set.\n",
    "D3 = 15\n",
    "print (\"If the car is going 70mph for 6 hours, it will go\", float (Speed * D1), \"miles\")\n",
    "print (\"If the car is going 70mph for 10 hours, it will go\", float (Speed *D2), \"miles\")\n",
    "print (\"If the car is going 70mph for 15 hours, it will go\", float (Speed * D3), \"miles\")\n"
   ]
  },
  {
   "cell_type": "code",
   "execution_count": 9,
   "id": "24008af0-13f7-4c7b-a1d8-88e1f7f23206",
   "metadata": {},
   "outputs": [],
   "source": [
    "## Problem 13. \n",
    "# A vineyard owner is planting several new rows of grapevines, and needs to know how many grapevines to plant in each row.\n",
    "# She has determined that after measuring the length of the future row, she can use the following formula to calculate the number of vines that will\n",
    "# fit in the row, along with the trellis end-post assemblies that will need to be constructed at the end of each row:\n",
    "# V= (R-2E)\n",
    "#     ----\n",
    "#       S\n",
    "\n",
    "# The terms for the formulas are: \n",
    "# V = number of grapevines that will fit in a row\n",
    "# R = length of the row, in feet\n",
    "# E = amount of space, in feet, used by an end-post assembly\n",
    "# S = Space between vines, in feet"
   ]
  },
  {
   "cell_type": "code",
   "execution_count": 10,
   "id": "e3d6849d-160f-4533-ae83-4eeb49622722",
   "metadata": {},
   "outputs": [
    {
     "name": "stdin",
     "output_type": "stream",
     "text": [
      " Please input the length of the row in ft 45\n"
     ]
    }
   ],
   "source": [
    "R = float(input(\" Please input the length of the row in ft\"))"
   ]
  },
  {
   "cell_type": "code",
   "execution_count": 11,
   "id": "219cd66d-240b-4bbb-91e8-3af7c5a747e2",
   "metadata": {},
   "outputs": [
    {
     "name": "stdin",
     "output_type": "stream",
     "text": [
      "Please input the length in-between vines in ft 35\n"
     ]
    }
   ],
   "source": [
    "S = float(input(\"Please input the length in-between vines in ft\"))"
   ]
  },
  {
   "cell_type": "code",
   "execution_count": 12,
   "id": "035dcc82-5efe-4f8e-b989-24b148332b86",
   "metadata": {},
   "outputs": [
    {
     "name": "stdin",
     "output_type": "stream",
     "text": [
      "Please input the the amount of space used by the end-post assembly in ft 5\n"
     ]
    }
   ],
   "source": [
    "E = float(input(\"Please input the the amount of space used by the end-post assembly in ft\"))"
   ]
  },
  {
   "cell_type": "code",
   "execution_count": 13,
   "id": "8ac68960-9fb0-4373-8fb6-687bb655ad20",
   "metadata": {},
   "outputs": [
    {
     "name": "stdout",
     "output_type": "stream",
     "text": [
      "The amount of grapevines you can plant is\n",
      "1.0\n"
     ]
    }
   ],
   "source": [
    "V = (((R-(2*E))/S))                                #Having issues with string and float values in a print format.\n",
    "print (\"The amount of grapevines you can plant is\") #I fixed it by putting a different print for text.\n",
    "print (V)                                           #I am not sure why the layout I used for height or name didn't work here."
   ]
  },
  {
   "cell_type": "code",
   "execution_count": null,
   "id": "036f7a04-b307-4954-ba6d-282941dd3e4b",
   "metadata": {},
   "outputs": [],
   "source": []
  }
 ],
 "metadata": {
  "kernelspec": {
   "display_name": "Python [conda env:base] *",
   "language": "python",
   "name": "conda-base-py"
  },
  "language_info": {
   "codemirror_mode": {
    "name": "ipython",
    "version": 3
   },
   "file_extension": ".py",
   "mimetype": "text/x-python",
   "name": "python",
   "nbconvert_exporter": "python",
   "pygments_lexer": "ipython3",
   "version": "3.13.5"
  }
 },
 "nbformat": 4,
 "nbformat_minor": 5
}
