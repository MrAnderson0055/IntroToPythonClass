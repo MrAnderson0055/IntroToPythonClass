{
 "cells": [
  {
   "cell_type": "code",
   "execution_count": 17,
   "id": "328f69d2-4daf-4497-9133-8cf93e5db95c",
   "metadata": {},
   "outputs": [],
   "source": [
    "##This is my 2nd notebook for CodingSet2"
   ]
  },
  {
   "cell_type": "code",
   "execution_count": 18,
   "id": "b8b488a3-72ef-40ad-8749-a0daec2d641d",
   "metadata": {},
   "outputs": [
    {
     "name": "stdin",
     "output_type": "stream",
     "text": [
      "What is your name? Bailey\n"
     ]
    }
   ],
   "source": [
    "name = input (\"What is your name?\")"
   ]
  },
  {
   "cell_type": "code",
   "execution_count": 19,
   "id": "a7be85f2-7c04-4644-a6b1-17adaa34cd26",
   "metadata": {},
   "outputs": [
    {
     "name": "stdout",
     "output_type": "stream",
     "text": [
      "Hello, Bailey. Welcome to my Coding Set 2.\n"
     ]
    }
   ],
   "source": [
    "print (\"Hello, \" + name + \". Welcome to my Coding Set 2.\") ##After watching the lecture Video I realized I could have used a F String for this.\n",
    "## I felt like this format used above helped with putting a message at the end of the input. "
   ]
  },
  {
   "cell_type": "code",
   "execution_count": 20,
   "id": "c914432d-3bf3-4fd6-bb8b-0008655a9513",
   "metadata": {},
   "outputs": [],
   "source": [
    "## 1. Write Python code that prompts the user to enter his or her height and assigns the user's input to variable named height."
   ]
  },
  {
   "cell_type": "code",
   "execution_count": 21,
   "id": "5c866c49-f011-4077-8c9c-2fb1296b02fc",
   "metadata": {},
   "outputs": [
    {
     "name": "stdin",
     "output_type": "stream",
     "text": [
      "How tall are you Bailey? 5ft 7\n"
     ]
    }
   ],
   "source": [
    "height = input (\"How tall are you \" + name + \"?\") ## I used the name variable above for this question."
   ]
  },
  {
   "cell_type": "code",
   "execution_count": 22,
   "id": "84d9e99a-00ea-43f4-90ed-d1ef348a5744",
   "metadata": {},
   "outputs": [
    {
     "name": "stdout",
     "output_type": "stream",
     "text": [
      "So you are 5ft 7? Very cool!\n"
     ]
    }
   ],
   "source": [
    "print (\"So you are \" + height + \"? Very cool!\") #I felt like the variable should be printed to show it worked."
   ]
  },
  {
   "cell_type": "code",
   "execution_count": null,
   "id": "52e80860-bf9a-4cba-9b1d-8d96bf4958b6",
   "metadata": {},
   "outputs": [],
   "source": []
  }
 ],
 "metadata": {
  "kernelspec": {
   "display_name": "Python [conda env:base] *",
   "language": "python",
   "name": "conda-base-py"
  },
  "language_info": {
   "codemirror_mode": {
    "name": "ipython",
    "version": 3
   },
   "file_extension": ".py",
   "mimetype": "text/x-python",
   "name": "python",
   "nbconvert_exporter": "python",
   "pygments_lexer": "ipython3",
   "version": "3.13.5"
  }
 },
 "nbformat": 4,
 "nbformat_minor": 5
}
