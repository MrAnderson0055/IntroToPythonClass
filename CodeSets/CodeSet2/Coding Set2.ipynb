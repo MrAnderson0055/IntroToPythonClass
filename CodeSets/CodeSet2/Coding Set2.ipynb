{
 "cells": [
  {
   "cell_type": "code",
   "execution_count": 28,
   "id": "328f69d2-4daf-4497-9133-8cf93e5db95c",
   "metadata": {},
   "outputs": [],
   "source": [
    "##This is my 2nd notebook for CodingSet2"
   ]
  },
  {
   "cell_type": "code",
   "execution_count": 29,
   "id": "b8b488a3-72ef-40ad-8749-a0daec2d641d",
   "metadata": {},
   "outputs": [
    {
     "name": "stdin",
     "output_type": "stream",
     "text": [
      "What is your name? Kat\n"
     ]
    }
   ],
   "source": [
    "name = input (\"What is your name?\")"
   ]
  },
  {
   "cell_type": "code",
   "execution_count": 30,
   "id": "a7be85f2-7c04-4644-a6b1-17adaa34cd26",
   "metadata": {},
   "outputs": [
    {
     "name": "stdout",
     "output_type": "stream",
     "text": [
      "Hello, Kat. Welcome to my Coding Set 2.\n"
     ]
    }
   ],
   "source": [
    "print (\"Hello, \" + name + \". Welcome to my Coding Set 2.\") "
   ]
  },
  {
   "cell_type": "code",
   "execution_count": null,
   "id": "c914432d-3bf3-4fd6-bb8b-0008655a9513",
   "metadata": {},
   "outputs": [],
   "source": []
  }
 ],
 "metadata": {
  "kernelspec": {
   "display_name": "Python [conda env:base] *",
   "language": "python",
   "name": "conda-base-py"
  },
  "language_info": {
   "codemirror_mode": {
    "name": "ipython",
    "version": 3
   },
   "file_extension": ".py",
   "mimetype": "text/x-python",
   "name": "python",
   "nbconvert_exporter": "python",
   "pygments_lexer": "ipython3",
   "version": "3.13.5"
  }
 },
 "nbformat": 4,
 "nbformat_minor": 5
}
