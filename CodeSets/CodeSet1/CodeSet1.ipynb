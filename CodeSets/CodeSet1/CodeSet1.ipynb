{
 "cells": [
  {
   "cell_type": "code",
   "execution_count": 1,
   "id": "9f2e2676-3228-4416-a44d-622780ba80c9",
   "metadata": {},
   "outputs": [],
   "source": [
    "## My First Notebook"
   ]
  },
  {
   "cell_type": "code",
   "execution_count": 2,
   "id": "cdd67558-f498-4eea-bf10-ef2c7ccc10b5",
   "metadata": {
    "panel-layout": {
     "height": 0,
     "visible": true,
     "width": 100
    }
   },
   "outputs": [
    {
     "name": "stdout",
     "output_type": "stream",
     "text": [
      "hello world\n"
     ]
    }
   ],
   "source": [
    "print (\"hello world\")"
   ]
  }
 ],
 "metadata": {
  "kernelspec": {
   "display_name": "Python 3 (ipykernel)",
   "language": "python",
   "name": "python3"
  },
  "language_info": {
   "codemirror_mode": {
    "name": "ipython",
    "version": 3
   },
   "file_extension": ".py",
   "mimetype": "text/x-python",
   "name": "python",
   "nbconvert_exporter": "python",
   "pygments_lexer": "ipython3",
   "version": "3.13.5"
  },
  "panel-cell-order": [
   "cdd67558-f498-4eea-bf10-ef2c7ccc10b5"
  ]
 },
 "nbformat": 4,
 "nbformat_minor": 5
}
